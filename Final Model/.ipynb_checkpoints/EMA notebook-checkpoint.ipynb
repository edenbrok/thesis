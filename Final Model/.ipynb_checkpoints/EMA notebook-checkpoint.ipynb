{
 "cells": [
  {
   "cell_type": "code",
   "execution_count": 1,
   "metadata": {},
   "outputs": [
    {
     "name": "stderr",
     "output_type": "stream",
     "text": [
      "[MainProcess/INFO] pool started\n",
      "[MainProcess/INFO] performing 10000 scenarios * 1 policies * 1 model(s) = 10000 experiments\n",
      "[MainProcess/INFO] 1000 cases completed\n",
      "[MainProcess/INFO] 2000 cases completed\n",
      "[MainProcess/INFO] 3000 cases completed\n",
      "[MainProcess/INFO] 4000 cases completed\n",
      "[MainProcess/INFO] 5000 cases completed\n",
      "[MainProcess/INFO] 6000 cases completed\n",
      "[MainProcess/INFO] 7000 cases completed\n",
      "[MainProcess/INFO] 8000 cases completed\n",
      "[MainProcess/INFO] 9000 cases completed\n",
      "[MainProcess/INFO] 10000 cases completed\n",
      "[MainProcess/INFO] experiments finished\n",
      "[MainProcess/INFO] terminating pool\n"
     ]
    },
    {
     "name": "stdout",
     "output_type": "stream",
     "text": [
      "--- 18043.824940681458 seconds ---\n"
     ]
    },
    {
     "name": "stderr",
     "output_type": "stream",
     "text": [
      "C:\\Users\\Emma\\Anaconda3\\lib\\site-packages\\ema_workbench\\util\\utilities.py:180: MatplotlibDeprecationWarning: The rec2csv function was deprecated in version 2.2. Use numpy.recarray.tofile instead.\n",
      "  rec2csv(experiments, experiments_file, withheader=True)\n",
      "C:\\Users\\Emma\\Anaconda3\\lib\\site-packages\\matplotlib\\mlab.py:3294: MatplotlibDeprecationWarning: The get_formatd function was deprecated in version 2.2.\n",
      "  formatd = get_formatd(r, formatd)\n",
      "C:\\Users\\Emma\\Anaconda3\\lib\\site-packages\\matplotlib\\mlab.py:3103: MatplotlibDeprecationWarning: The FormatBool class was deprecated in version 2.2.\n",
      "  np.bool_: FormatBool(),\n",
      "C:\\Users\\Emma\\Anaconda3\\lib\\site-packages\\matplotlib\\cbook\\deprecation.py:208: MatplotlibDeprecationWarning: The FormatObj class was deprecated in version 2.2.\n",
      "  return func(*args, **kwargs)\n",
      "C:\\Users\\Emma\\Anaconda3\\lib\\site-packages\\matplotlib\\mlab.py:3104: MatplotlibDeprecationWarning: The FormatInt class was deprecated in version 2.2.\n",
      "  np.int16: FormatInt(),\n",
      "C:\\Users\\Emma\\Anaconda3\\lib\\site-packages\\matplotlib\\mlab.py:3105: MatplotlibDeprecationWarning: The FormatInt class was deprecated in version 2.2.\n",
      "  np.int32: FormatInt(),\n",
      "C:\\Users\\Emma\\Anaconda3\\lib\\site-packages\\matplotlib\\mlab.py:3106: MatplotlibDeprecationWarning: The FormatInt class was deprecated in version 2.2.\n",
      "  np.int64: FormatInt(),\n",
      "C:\\Users\\Emma\\Anaconda3\\lib\\site-packages\\matplotlib\\mlab.py:3107: MatplotlibDeprecationWarning: The FormatFloat class was deprecated in version 2.2.\n",
      "  np.float32: FormatFloat(),\n",
      "C:\\Users\\Emma\\Anaconda3\\lib\\site-packages\\matplotlib\\mlab.py:3015: MatplotlibDeprecationWarning: The FormatFormatStr class was deprecated in version 2.2.\n",
      "  FormatFormatStr.__init__(self, '%%1.%df' % precision)\n",
      "C:\\Users\\Emma\\Anaconda3\\lib\\site-packages\\matplotlib\\mlab.py:3108: MatplotlibDeprecationWarning: The FormatFloat class was deprecated in version 2.2.\n",
      "  np.float64: FormatFloat(),\n",
      "C:\\Users\\Emma\\Anaconda3\\lib\\site-packages\\matplotlib\\mlab.py:3109: MatplotlibDeprecationWarning: The FormatObj class was deprecated in version 2.2.\n",
      "  np.object_: FormatObj(),\n",
      "C:\\Users\\Emma\\Anaconda3\\lib\\site-packages\\matplotlib\\mlab.py:3110: MatplotlibDeprecationWarning: The FormatString class was deprecated in version 2.2.\n",
      "  np.string_: FormatString()}\n",
      "C:\\Users\\Emma\\Anaconda3\\lib\\site-packages\\matplotlib\\mlab.py:3119: MatplotlibDeprecationWarning: The FormatObj class was deprecated in version 2.2.\n",
      "  format = defaultformatd.get(dt.type, FormatObj())\n",
      "C:\\Users\\Emma\\Anaconda3\\lib\\site-packages\\matplotlib\\mlab.py:3297: MatplotlibDeprecationWarning: The csvformat_factory function was deprecated in version 2.2.\n",
      "  funcs.append(with_mask(csvformat_factory(formatd[name]).tostr))\n",
      "[MainProcess/INFO] results saved successfully to C:\\Users\\Emma\\PythonProjects\\thesis2\\thesis\\Final Model\\all_exploitation_10000.tar.gz\n"
     ]
    }
   ],
   "source": [
    "from model import ebola_model\n",
    "\n",
    "from ema_workbench import Model, IntegerParameter, RealParameter, TimeSeriesOutcome, ScalarOutcome, Policy\n",
    "\n",
    "model = Model('Ebola', function=ebola_model)\n",
    "\n",
    "model.uncertainties = [IntegerParameter('I4', 1, 8),\n",
    "                       IntegerParameter('I14', 0, 5),\n",
    "                       IntegerParameter('I15', 25, 40),\n",
    "                       RealParameter('beta_i', 0.1, 0.5),\n",
    "                       RealParameter('travel_rate', 0.04, 0.1)]\n",
    "\n",
    "model.outcomes = [ScalarOutcome('Effectiveness'),\n",
    "                  ScalarOutcome('Speed'),\n",
    "                  ScalarOutcome('Equity in met demand'),\n",
    "                  ScalarOutcome('Equity in arrival times'),\n",
    "                  ScalarOutcome('Cost per death prevented')]\n",
    "\n",
    "model.levers = [RealParameter('exploration_ratio', 0.0, 1.0)]\n",
    "                \n",
    "policies = [Policy(\"All exploitation\", **{'exploration_ratio' : 0.0})]\n",
    "\n",
    "from ema_workbench import SequentialEvaluator\n",
    "\n",
    "from ema_workbench import ema_logging\n",
    "\n",
    "ema_logging.log_to_stderr(ema_logging.INFO)\n",
    "'''\n",
    "with SequentialEvaluator(model) as evaluator:\n",
    "    experiments, outcomes = evaluator.perform_experiments(scenarios=10, policies = policies)\n",
    "'''\n",
    "\n",
    "from ema_workbench import MultiprocessingEvaluator\n",
    "\n",
    "\n",
    "\n",
    "import time\n",
    "start_time = time.time()\n",
    "\n",
    "\n",
    "with MultiprocessingEvaluator(model) as evaluator:\n",
    "    results = evaluator.perform_experiments(scenarios=10000, policies = policies)\n",
    "    \n",
    "print(\"--- %s seconds ---\" % (time.time() - start_time))\n",
    "\n",
    "from ema_workbench import save_results\n",
    "save_results(results, r'./all_exploitation_10000.tar.gz')\n",
    "    \n"
   ]
  },
  {
   "cell_type": "code",
   "execution_count": 2,
   "metadata": {},
   "outputs": [
    {
     "name": "stderr",
     "output_type": "stream",
     "text": [
      "[MainProcess/INFO] results loaded succesfully from C:\\Users\\Emma\\PythonProjects\\thesis2\\thesis\\Final Model\\all_exploitation_10000.tar.gz\n"
     ]
    },
    {
     "name": "stdout",
     "output_type": "stream",
     "text": [
      "(array([(3, 36, 4, 0.34760138, 0.07310569, 0., 0, 'All exploitation', 'Ebola'),\n",
      "       (1, 39, 2, 0.11451467, 0.0825517 , 0., 1, 'All exploitation', 'Ebola'),\n",
      "       (4, 38, 1, 0.27479479, 0.06307399, 0., 2, 'All exploitation', 'Ebola'),\n",
      "       ...,\n",
      "       (2, 26, 6, 0.21817706, 0.0487332 , 0., 9997, 'All exploitation', 'Ebola'),\n",
      "       (2, 30, 5, 0.38093572, 0.09073138, 0., 9998, 'All exploitation', 'Ebola'),\n",
      "       (1, 30, 7, 0.14290074, 0.08926314, 0., 9999, 'All exploitation', 'Ebola')],\n",
      "      dtype=[('I14', '<i4'), ('I15', '<i4'), ('I4', '<i4'), ('beta_i', '<f8'), ('travel_rate', '<f8'), ('exploration_ratio', '<f8'), ('scenario_id', 'O'), ('policy', 'O'), ('model', 'O')]), {'Effectiveness': array([0.50929854, 0.0586359 , 0.36851391, ..., 0.        , 0.42042456,\n",
      "       0.16290721]), 'Speed': array([23., 10.,  7., ..., 26., 26., 23.]), 'Equity in met demand': array([0.21521205, 0.0964391 , 0.18432917, ..., 0.16914213, 0.41092608,\n",
      "       0.20356552]), 'Equity in arrival times': array([751.9375, 605.    , 771.75  , ..., 409.    , 718.4375, 742.    ]), 'Cost per death prevented': array([  40618.43316997,  713250.73636211,   73893.07593362, ...,\n",
      "       1564605.        ,   46860.67675588,  285988.92556856])})\n"
     ]
    }
   ],
   "source": [
    "from ema_workbench import load_results\n",
    "results = load_results('all_exploitation_10000.tar.gz')\n",
    "print(results)"
   ]
  },
  {
   "cell_type": "code",
   "execution_count": 2,
   "metadata": {},
   "outputs": [
    {
     "name": "stdout",
     "output_type": "stream",
     "text": [
      "Spontaneous news from region  15\n",
      "Spontaneous news from region  4\n",
      "None\n",
      "None\n",
      "None\n",
      "None\n",
      "0\n",
      "and I am here\n",
      "None\n",
      "None\n",
      "None\n",
      "None\n",
      "None\n",
      "None\n",
      "None\n",
      "None\n",
      "None\n",
      "0\n",
      "and I am here\n",
      "0\n",
      "and I am here\n",
      "[21, 7, 3]\n"
     ]
    },
    {
     "data": {
      "text/plain": [
       "[0.8274642564126976,\n",
       " 6,\n",
       " 0.02065746180097655,\n",
       " 178.66666666666669,\n",
       " 6755.170857001693]"
      ]
     },
     "execution_count": 2,
     "metadata": {},
     "output_type": "execute_result"
    }
   ],
   "source": [
    "from model import ebola_model\n",
    "\n",
    "ebola_model(exploration_ratio=0, travel_rate=0.0, store_data = True)"
   ]
  },
  {
   "cell_type": "code",
   "execution_count": 2,
   "metadata": {},
   "outputs": [
    {
     "name": "stdout",
     "output_type": "stream",
     "text": [
      "hello\n"
     ]
    }
   ],
   "source": [
    "x = 0\n",
    "\n",
    "if x is not None:\n",
    "    print(\"hello\")"
   ]
  }
 ],
 "metadata": {
  "kernelspec": {
   "display_name": "Python 3",
   "language": "python",
   "name": "python3"
  },
  "language_info": {
   "codemirror_mode": {
    "name": "ipython",
    "version": 3
   },
   "file_extension": ".py",
   "mimetype": "text/x-python",
   "name": "python",
   "nbconvert_exporter": "python",
   "pygments_lexer": "ipython3",
   "version": "3.6.4"
  }
 },
 "nbformat": 4,
 "nbformat_minor": 2
}
