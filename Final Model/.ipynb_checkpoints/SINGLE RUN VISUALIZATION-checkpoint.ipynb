{
 "cells": [
  {
   "cell_type": "code",
   "execution_count": 26,
   "metadata": {},
   "outputs": [
    {
     "name": "stdout",
     "output_type": "stream",
     "text": [
      "{'Effectiveness': -0.9068572190527754, 'Time until Containment': 26, 'Difference in Met Demand': 0.5010169544367706, 'Difference in Arrival Time': 742.9375, 'Cost per Death Prevented': 565.2718978185293, 'Uncertainty over Time': [1.0, 1.0, 1.0, 0.9791666666666666, 0.9572916666666668, 0.9270833333333334, 0.862782493712091, 0.8458876266958919, 0.8376826643843641, 0.8286379776339392, 0.8212063095776555, 0.818811655516214, 0.8178271922470803, 0.7660423423382507, 0.7534661837751987, 0.6987301329837972, 0.6543391917793051, 0.6353368542181926, 0.5928143149363587, 0.5484078611027059, 0.5211366752249399, 0.4718129157958911, 0.44870441876411804, 0.40866588809022203, 0.38948241563351726, 0.35021826832130126], 'Decision Types': [0, 0, 0, 0, 0, 0, 0, 0, 0, 0, 0, 0, 0, 0, 0, 0, 0, 0, 0, 0, 0, 0, 0, 0, 0, 0], 'Chosen Regions': [None, None, '15', '14', '15', '14', '15', '15', '14', '14', '10', '14', '11', '13', '11', '9', '12', '8', '4', '13', '7', '4', '0', '4', '5', '4']}\n"
     ]
    }
   ],
   "source": [
    "from model import ebola_model\n",
    "\n",
    "results = ebola_model(I4 =3,\n",
    "                I14 = 25,\n",
    "                I15 = 32,\n",
    "                beta_i = 0.32,\n",
    "                beta_d = 0.73,\n",
    "                travel_rate = 0.05,\n",
    "                exploration_ratio = 0,\n",
    "                store_data = True)\n",
    "\n",
    "\n",
    "print(results)"
   ]
  },
  {
   "cell_type": "code",
   "execution_count": 33,
   "metadata": {},
   "outputs": [
    {
     "name": "stdout",
     "output_type": "stream",
     "text": [
      "{'Effectiveness': -0.7432388086553219, 'Time until Containment': 26, 'Difference in Met Demand': 0.41096731253530455, 'Difference in Arrival Time': 617.75, 'Cost per Death Prevented': 3144.766798148542, 'Uncertainty over Time': [1.0, 0.9375, 0.875, 0.875, 0.790625, 0.71875, 0.6429908270454244, 0.6383134663171243, 0.6337441980672137, 0.6218388716277169, 0.6164577053697446, 0.6026747095799295, 0.5788928044231413, 0.5642419241803763, 0.5446248852380997, 0.5304875630461653, 0.5216657292632487, 0.5113828190000055, 0.49287537639134354, 0.4693885440113712, 0.4497136541846812, 0.4337639336941524, 0.4176755596642525, 0.40754575934060294, 0.39615174008283677, 0.3885684887718673], 'Decision Types': [1, 1, 0, 1, 1, 1, 1, 0, 0, 0, 0, 1, 1, 0, 0, 0, 0, 0, 0, 0, 0, 0, 1, 0, 0, 0], 'Chosen Regions': ['141219', '221125', '15', '211523', '182017', '101316', '10', '15', '14', '10', '14', '13', '12', '14', '11', '13', '4', '8', '9', '12', None, '7', '17', '5', None, None]}\n"
     ]
    }
   ],
   "source": [
    "from model_with_policy import borg_ebola\n",
    "\n",
    "'''\n",
    "661: 0.760093,  0.356904,  0.816285,  1.000000,  0.661981     \n",
    "148: 0.356111,  0.476011,  0.888042,  0.827078,  0.851858\n",
    "141: 0.189347,  0.297782,  0.663825,  0.677523,  0.470387      \n",
    "'''\n",
    "results = borg_ebola(0.189347,  0.297782,  0.663825,  0.677523,  0.470387, \n",
    "               I4 =3,\n",
    "               I14 = 25,\n",
    "               I15 = 32,\n",
    "               beta_i = 0.32,\n",
    "               travel_rate = 0.05,\n",
    "               store_data = True)\n",
    "\n",
    "\n",
    "print(results)"
   ]
  },
  {
   "cell_type": "code",
   "execution_count": null,
   "metadata": {},
   "outputs": [],
   "source": []
  }
 ],
 "metadata": {
  "kernelspec": {
   "display_name": "Python 3",
   "language": "python",
   "name": "python3"
  },
  "language_info": {
   "codemirror_mode": {
    "name": "ipython",
    "version": 3
   },
   "file_extension": ".py",
   "mimetype": "text/x-python",
   "name": "python",
   "nbconvert_exporter": "python",
   "pygments_lexer": "ipython3",
   "version": "3.7.3"
  }
 },
 "nbformat": 4,
 "nbformat_minor": 2
}
