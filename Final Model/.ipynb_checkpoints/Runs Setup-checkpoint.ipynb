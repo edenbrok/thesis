{
 "cells": [
  {
   "cell_type": "markdown",
   "metadata": {},
   "source": [
    "## MOEA"
   ]
  },
  {
   "cell_type": "code",
   "execution_count": 7,
   "metadata": {},
   "outputs": [],
   "source": [
    "from model_with_policy import borg_ebola\n",
    "\n",
    "import numpy as np\n",
    "\n",
    "from ema_workbench import (Model, IntegerParameter, RealParameter, ReplicatorModel,\n",
    "                           TimeSeriesOutcome, ScalarOutcome, ArrayOutcome, Policy, Scenario)\n",
    "\n",
    "model = Model('Ebola', function=borg_ebola)\n",
    "#model = ReplicatorModel('Ebola', function=borg_ebola)\n",
    "\n",
    "#model.replications = 150\n",
    "\n",
    "model.outcomes = [ScalarOutcome('mean effectiveness', ScalarOutcome.MINIMIZE, function=np.mean, \n",
    "                               variable_name='Effectiveness'),\n",
    "                  ScalarOutcome('mean time until containment', ScalarOutcome.MINIMIZE, function = np.mean, \n",
    "                               variable_name='Time until Containment'),\n",
    "                  ScalarOutcome('mean difference in met demand', ScalarOutcome.MINIMIZE, function = np.mean, \n",
    "                               variable_name='Difference in Met Demand'),\n",
    "                  ScalarOutcome('mean difference in arrival time', ScalarOutcome.MINIMIZE, function = np.mean, \n",
    "                               variable_name='Difference in Arrival Time'),\n",
    "                  ScalarOutcome('mean cost per death prevented', ScalarOutcome.MINIMIZE, function = np.mean, \n",
    "                               variable_name='Cost per Death Prevented'),\n",
    "                  ArrayOutcome('Uncertainty over Time', variable_name='Uncertainty over Time'),\n",
    "                  ArrayOutcome('Decision Types over Time', variable_name='Decision Types'),\n",
    "                  ArrayOutcome('Chosen Regions', variable_name='Chosen Regions')]\n",
    "\n",
    "            \n",
    "model.uncertainties = [IntegerParameter('I4', 1, 8),\n",
    "                       IntegerParameter('I14', 20, 35),\n",
    "                       IntegerParameter('I15', 25, 40),\n",
    "                       RealParameter('beta_i', 0.1, 0.5),\n",
    "                       RealParameter('travel_rate', 0.04, 0.1)]\n",
    "\n",
    "\n",
    "model.levers = [RealParameter('c1', -1.0, 1.0),\n",
    "               RealParameter('c2', -1.0, 1.0),\n",
    "               RealParameter('r1', 0.000001, 1.0),\n",
    "               RealParameter('r2', 0.000001, 1.0),\n",
    "               RealParameter('w', 0, 1.0)]\n",
    "                \n",
    "\n",
    "reference = Scenario('reference', I4 =3, I14 = 25, I15 = 32, beta_i = 0.32, travel_rate = 0.05)  "
   ]
  },
  {
   "cell_type": "code",
   "execution_count": null,
   "metadata": {},
   "outputs": [
    {
     "name": "stderr",
     "output_type": "stream",
     "text": [
      "[MainProcess/INFO] pool started\n",
      "[MainProcess/INFO] generation 0: 0/2 nfe\n"
     ]
    }
   ],
   "source": [
    "from ema_workbench import SequentialEvaluator, MultiprocessingEvaluator, ema_logging\n",
    "\n",
    "from ema_workbench.em_framework.optimization import (HyperVolume,\n",
    "                                                     EpsilonProgress)\n",
    "\n",
    "ema_logging.log_to_stderr(ema_logging.INFO)\n",
    "\n",
    "convergence_metrics = [HyperVolume(minimum=[-1,0,0,0,0], maximum=[0,26, 3, 2000, 1000000]),\n",
    "                       EpsilonProgress()]\n",
    "\n",
    "\n",
    "#with SequentialEvaluator(model) as evaluator:\n",
    "with MultiprocessingEvaluator(model) as evaluator:\n",
    "    results, convergence = evaluator.optimize(nfe=2, searchover='levers',\n",
    "                                 convergence=convergence_metrics,\n",
    "                                 epsilons=[0.02, 2, 0.02, 20, 100],\n",
    "                                 reference=reference)\n",
    "    \n",
    "    \n",
    "    \n",
    "import pandas as pd\n",
    "results.to_csv('optimization_results')\n",
    "convergence.to_csv('convergence')"
   ]
  },
  {
   "cell_type": "code",
   "execution_count": 5,
   "metadata": {},
   "outputs": [
    {
     "name": "stdout",
     "output_type": "stream",
     "text": [
      "          c1        c2        r1        r2         w  mean effectiveness  \\\n",
      "0   0.319779  0.170467  0.864971  0.929614  0.964092           -0.818061   \n",
      "1  -0.587448 -0.804097  0.485610  0.774535  0.480125           -0.614106   \n",
      "2   0.345484  0.790416  0.797215  0.290415  0.740273           -0.807758   \n",
      "3  -0.635082  0.499989  0.012068  0.950910  0.605799           -0.389601   \n",
      "4   0.993889  0.336279  0.608147  0.428685  0.603501           -0.798580   \n",
      "5  -0.312500 -0.028718  0.790219  0.926834  0.004667           -0.681939   \n",
      "6   0.467739  0.550872  0.471935  0.658182  0.960194           -0.817244   \n",
      "7   0.657470 -0.014002  0.693784  0.739422  0.534688           -0.690413   \n",
      "8   0.139564  0.182762  0.988730  0.580166  0.990830           -0.810953   \n",
      "9   0.521155  0.629601  0.234149  0.321166  0.351131           -0.716800   \n",
      "10  0.323722  0.605709  0.558145  0.234709  0.206279           -0.774280   \n",
      "11  0.893971  0.571791  0.643291  0.895010  0.055847           -0.845632   \n",
      "12  0.956868  0.537929  0.674809  0.995675  0.582288           -0.769050   \n",
      "13 -0.141309 -0.421882  0.284359  0.446678  0.121603           -0.562300   \n",
      "14  0.201312 -0.636858  0.092528  0.121228  0.112810           -0.455230   \n",
      "15  0.776755  0.016681  0.809819  0.959478  0.827071           -0.811691   \n",
      "16 -0.692541  0.388553  0.826122  0.422884  0.097177           -0.719310   \n",
      "17  0.637488 -0.899607  0.446100  0.612791  0.304906           -0.485697   \n",
      "18 -0.974550  0.449506  0.528260  0.809419  0.938230           -0.531987   \n",
      "\n",
      "    mean time until containment  mean difference in met demand  \\\n",
      "0                          26.0                       0.325501   \n",
      "1                          24.0                       0.304945   \n",
      "2                          26.0                       0.204830   \n",
      "3                          26.0                       0.852072   \n",
      "4                          20.0                       0.223818   \n",
      "5                          19.0                       0.671472   \n",
      "6                          13.0                       0.345846   \n",
      "7                          25.0                       0.487940   \n",
      "8                          26.0                       0.226524   \n",
      "9                          15.0                       0.364460   \n",
      "10                         26.0                       0.178343   \n",
      "11                         26.0                       0.337710   \n",
      "12                         26.0                       0.295588   \n",
      "13                         26.0                       0.759802   \n",
      "14                         26.0                       0.897799   \n",
      "15                          9.0                       0.256126   \n",
      "16                         25.0                       0.557704   \n",
      "17                         26.0                       0.596781   \n",
      "18                         26.0                       0.747261   \n",
      "\n",
      "    mean difference in arrival time  mean cost per death prevented  \n",
      "0                          909.7500                    2328.211409  \n",
      "1                          387.0000                    4520.433434  \n",
      "2                          780.0000                    2678.819522  \n",
      "3                          339.4375                    6927.137537  \n",
      "4                          593.9375                    2892.307953  \n",
      "5                          554.0000                    3302.778763  \n",
      "6                          893.7500                    2339.330121  \n",
      "7                          458.9375                    3380.863163  \n",
      "8                          714.4375                    2548.933960  \n",
      "9                          615.4375                    3108.037939  \n",
      "10                         525.0000                    2972.864679  \n",
      "11                         961.0000                    2127.393133  \n",
      "12                         775.4375                    2465.071060  \n",
      "13                         376.4375                    4936.911450  \n",
      "14                         339.0000                    5814.391826  \n",
      "15                         788.4375                    2492.881644  \n",
      "16                         571.0000                    3599.765197  \n",
      "17                         351.4375                    5613.363956  \n",
      "18                         349.0000                    5135.289827  \n",
      "   hypervolume  epsilon_progress  nfe\n",
      "0          0.0                 0    0\n"
     ]
    }
   ],
   "source": [
    "print(results)\n",
    "print(convergence)"
   ]
  }
 ],
 "metadata": {
  "kernelspec": {
   "display_name": "Python 3",
   "language": "python",
   "name": "python3"
  },
  "language_info": {
   "codemirror_mode": {
    "name": "ipython",
    "version": 3
   },
   "file_extension": ".py",
   "mimetype": "text/x-python",
   "name": "python",
   "nbconvert_exporter": "python",
   "pygments_lexer": "ipython3",
   "version": "3.7.3"
  }
 },
 "nbformat": 4,
 "nbformat_minor": 2
}
