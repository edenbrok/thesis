{
 "cells": [
  {
   "cell_type": "code",
   "execution_count": null,
   "metadata": {},
   "outputs": [
    {
     "name": "stderr",
     "output_type": "stream",
     "text": [
      "[MainProcess/INFO] pool started\n",
      "[MainProcess/INFO] performing 1000 scenarios * 2 policies * 1 model(s) = 2000 experiments\n",
      "[MainProcess/INFO] 200 cases completed\n"
     ]
    }
   ],
   "source": [
    "from model import ebola_model\n",
    "\n",
    "from ema_workbench import Model, IntegerParameter, RealParameter, TimeSeriesOutcome, ScalarOutcome, Policy\n",
    "\n",
    "model = Model('Ebola', function=ebola_model)\n",
    "\n",
    "model.uncertainties = [IntegerParameter('I1', 0, 50),\n",
    "                       IntegerParameter('I2', 0, 50),\n",
    "                       RealParameter('beta_i', 0.06, 0.4),\n",
    "                       RealParameter('travel_rate', 0.01, 0.2)]\n",
    "\n",
    "model.outcomes = [ScalarOutcome('Effectiveness'),\n",
    "                  ScalarOutcome('Speed'),\n",
    "                  ScalarOutcome('Equity in met demand'),\n",
    "                  ScalarOutcome('Equity in arrival times'),\n",
    "                  ScalarOutcome('Cost per death prevented')]\n",
    "\n",
    "model.levers = [RealParameter('exploration_ratio', 0.0, 1.0)]\n",
    "                \n",
    "policies = [Policy(\"All exploitation\", **{'exploration_ratio' : 0.0}), Policy(\"50-50\",**{'exploration_ratio' : 0.5})]\n",
    "\n",
    "from ema_workbench import SequentialEvaluator\n",
    "\n",
    "from ema_workbench import ema_logging\n",
    "\n",
    "ema_logging.log_to_stderr(ema_logging.INFO)\n",
    "'''\n",
    "with SequentialEvaluator(model) as evaluator:\n",
    "    experiments, outcomes = evaluator.perform_experiments(scenarios=10, policies = policies)\n",
    "'''\n",
    "\n",
    "from ema_workbench import MultiprocessingEvaluator\n",
    "\n",
    "n_scenarios = 1000\n",
    "\n",
    "\n",
    "with MultiprocessingEvaluator(model) as evaluator:\n",
    "    experiments, outcomes = evaluator.perform_experiments(scenarios=1000, policies = policies)\n",
    "    \n",
    "\n",
    "import matplotlib.pyplot as plt    \n",
    "import pandas as pd\n",
    "import seaborn as sns\n",
    "\n",
    "policies = experiments['policy']\n",
    "\n",
    "data = pd.DataFrame.from_dict(outcomes)\n",
    "data['policy'] = policies\n",
    "\n",
    "sns.pairplot(data, hue='policy',  vars=outcomes.keys(), )\n",
    "plt.show()"
   ]
  },
  {
   "cell_type": "code",
   "execution_count": 2,
   "metadata": {},
   "outputs": [
    {
     "name": "stdout",
     "output_type": "stream",
     "text": [
      "0\n"
     ]
    }
   ],
   "source": [
    "l = [1]\n",
    "for i in range(len(l)):\n",
    "    print(i)"
   ]
  }
 ],
 "metadata": {
  "kernelspec": {
   "display_name": "Python 3",
   "language": "python",
   "name": "python3"
  },
  "language_info": {
   "codemirror_mode": {
    "name": "ipython",
    "version": 3
   },
   "file_extension": ".py",
   "mimetype": "text/x-python",
   "name": "python",
   "nbconvert_exporter": "python",
   "pygments_lexer": "ipython3",
   "version": "3.6.4"
  }
 },
 "nbformat": 4,
 "nbformat_minor": 2
}
