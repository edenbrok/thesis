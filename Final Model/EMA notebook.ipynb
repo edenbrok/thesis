{
 "cells": [
  {
   "cell_type": "code",
   "execution_count": 1,
   "metadata": {},
   "outputs": [
    {
     "name": "stderr",
     "output_type": "stream",
     "text": [
      "[MainProcess/INFO] pool started\n",
      "[MainProcess/INFO] performing 10000 scenarios * 1 policies * 1 model(s) = 10000 experiments\n",
      "[MainProcess/INFO] 1000 cases completed\n",
      "[MainProcess/INFO] 2000 cases completed\n",
      "[MainProcess/INFO] 3000 cases completed\n",
      "[MainProcess/INFO] 4000 cases completed\n",
      "[MainProcess/INFO] 5000 cases completed\n",
      "[MainProcess/INFO] 6000 cases completed\n",
      "[MainProcess/INFO] 7000 cases completed\n",
      "[MainProcess/INFO] 8000 cases completed\n",
      "[MainProcess/INFO] 9000 cases completed\n",
      "[MainProcess/INFO] 10000 cases completed\n",
      "[MainProcess/INFO] experiments finished\n",
      "[MainProcess/INFO] terminating pool\n"
     ]
    },
    {
     "name": "stdout",
     "output_type": "stream",
     "text": [
      "--- 18043.824940681458 seconds ---\n"
     ]
    },
    {
     "name": "stderr",
     "output_type": "stream",
     "text": [
      "C:\\Users\\Emma\\Anaconda3\\lib\\site-packages\\ema_workbench\\util\\utilities.py:180: MatplotlibDeprecationWarning: The rec2csv function was deprecated in version 2.2. Use numpy.recarray.tofile instead.\n",
      "  rec2csv(experiments, experiments_file, withheader=True)\n",
      "C:\\Users\\Emma\\Anaconda3\\lib\\site-packages\\matplotlib\\mlab.py:3294: MatplotlibDeprecationWarning: The get_formatd function was deprecated in version 2.2.\n",
      "  formatd = get_formatd(r, formatd)\n",
      "C:\\Users\\Emma\\Anaconda3\\lib\\site-packages\\matplotlib\\mlab.py:3103: MatplotlibDeprecationWarning: The FormatBool class was deprecated in version 2.2.\n",
      "  np.bool_: FormatBool(),\n",
      "C:\\Users\\Emma\\Anaconda3\\lib\\site-packages\\matplotlib\\cbook\\deprecation.py:208: MatplotlibDeprecationWarning: The FormatObj class was deprecated in version 2.2.\n",
      "  return func(*args, **kwargs)\n",
      "C:\\Users\\Emma\\Anaconda3\\lib\\site-packages\\matplotlib\\mlab.py:3104: MatplotlibDeprecationWarning: The FormatInt class was deprecated in version 2.2.\n",
      "  np.int16: FormatInt(),\n",
      "C:\\Users\\Emma\\Anaconda3\\lib\\site-packages\\matplotlib\\mlab.py:3105: MatplotlibDeprecationWarning: The FormatInt class was deprecated in version 2.2.\n",
      "  np.int32: FormatInt(),\n",
      "C:\\Users\\Emma\\Anaconda3\\lib\\site-packages\\matplotlib\\mlab.py:3106: MatplotlibDeprecationWarning: The FormatInt class was deprecated in version 2.2.\n",
      "  np.int64: FormatInt(),\n",
      "C:\\Users\\Emma\\Anaconda3\\lib\\site-packages\\matplotlib\\mlab.py:3107: MatplotlibDeprecationWarning: The FormatFloat class was deprecated in version 2.2.\n",
      "  np.float32: FormatFloat(),\n",
      "C:\\Users\\Emma\\Anaconda3\\lib\\site-packages\\matplotlib\\mlab.py:3015: MatplotlibDeprecationWarning: The FormatFormatStr class was deprecated in version 2.2.\n",
      "  FormatFormatStr.__init__(self, '%%1.%df' % precision)\n",
      "C:\\Users\\Emma\\Anaconda3\\lib\\site-packages\\matplotlib\\mlab.py:3108: MatplotlibDeprecationWarning: The FormatFloat class was deprecated in version 2.2.\n",
      "  np.float64: FormatFloat(),\n",
      "C:\\Users\\Emma\\Anaconda3\\lib\\site-packages\\matplotlib\\mlab.py:3109: MatplotlibDeprecationWarning: The FormatObj class was deprecated in version 2.2.\n",
      "  np.object_: FormatObj(),\n",
      "C:\\Users\\Emma\\Anaconda3\\lib\\site-packages\\matplotlib\\mlab.py:3110: MatplotlibDeprecationWarning: The FormatString class was deprecated in version 2.2.\n",
      "  np.string_: FormatString()}\n",
      "C:\\Users\\Emma\\Anaconda3\\lib\\site-packages\\matplotlib\\mlab.py:3119: MatplotlibDeprecationWarning: The FormatObj class was deprecated in version 2.2.\n",
      "  format = defaultformatd.get(dt.type, FormatObj())\n",
      "C:\\Users\\Emma\\Anaconda3\\lib\\site-packages\\matplotlib\\mlab.py:3297: MatplotlibDeprecationWarning: The csvformat_factory function was deprecated in version 2.2.\n",
      "  funcs.append(with_mask(csvformat_factory(formatd[name]).tostr))\n",
      "[MainProcess/INFO] results saved successfully to C:\\Users\\Emma\\PythonProjects\\thesis2\\thesis\\Final Model\\all_exploitation_10000.tar.gz\n"
     ]
    }
   ],
   "source": [
    "from model import ebola_model\n",
    "\n",
    "from ema_workbench import Model, IntegerParameter, RealParameter, TimeSeriesOutcome, ScalarOutcome, Policy\n",
    "\n",
    "model = Model('Ebola', function=ebola_model)\n",
    "\n",
    "model.uncertainties = [IntegerParameter('I4', 1, 8),\n",
    "                       IntegerParameter('I14', 0, 5),\n",
    "                       IntegerParameter('I15', 25, 40),\n",
    "                       RealParameter('beta_i', 0.1, 0.5),\n",
    "                       RealParameter('travel_rate', 0.04, 0.1)]\n",
    "\n",
    "model.outcomes = [ScalarOutcome('Effectiveness'),\n",
    "                  ScalarOutcome('Speed'),\n",
    "                  ScalarOutcome('Equity in met demand'),\n",
    "                  ScalarOutcome('Equity in arrival times'),\n",
    "                  ScalarOutcome('Cost per death prevented')]\n",
    "\n",
    "model.levers = [RealParameter('exploration_ratio', 0.0, 1.0)]\n",
    "                \n",
    "policies = [Policy(\"All exploitation\", **{'exploration_ratio' : 0.0})]\n",
    "\n",
    "from ema_workbench import SequentialEvaluator\n",
    "\n",
    "from ema_workbench import ema_logging\n",
    "\n",
    "ema_logging.log_to_stderr(ema_logging.INFO)\n",
    "'''\n",
    "with SequentialEvaluator(model) as evaluator:\n",
    "    experiments, outcomes = evaluator.perform_experiments(scenarios=10, policies = policies)\n",
    "'''\n",
    "\n",
    "from ema_workbench import MultiprocessingEvaluator\n",
    "\n",
    "\n",
    "\n",
    "import time\n",
    "start_time = time.time()\n",
    "\n",
    "\n",
    "with MultiprocessingEvaluator(model) as evaluator:\n",
    "    results = evaluator.perform_experiments(scenarios=10000, policies = policies)\n",
    "    \n",
    "print(\"--- %s seconds ---\" % (time.time() - start_time))\n",
    "\n",
    "from ema_workbench import save_results\n",
    "save_results(results, r'./all_exploitation_10000.tar.gz')\n",
    "    \n"
   ]
  },
  {
   "cell_type": "code",
   "execution_count": 1,
   "metadata": {},
   "outputs": [
    {
     "name": "stdout",
     "output_type": "stream",
     "text": [
      "Timestep  0\n",
      "Timestep  1\n",
      "Timestep  2\n",
      "A person is moving from region  4\n",
      "to region  2\n",
      "Timestep  3\n",
      "Spontaneous news from region  14\n",
      "I'm making an exploitative decision to place a small ETC in region 14\n",
      "Timestep  4\n",
      "A person is moving from region  11\n",
      "to region  0\n",
      "Timestep  5\n",
      "I'm making an exploitative decision to place a small ETC in region 14\n",
      "Timestep  6\n",
      "I'm making an exploitative decision to place a small ETC in region 15\n",
      "Timestep  7\n",
      "I'm making an exploitative decision to place a small ETC in region 10\n",
      "A person is moving from region  14\n",
      "to region  1\n",
      "Timestep  8\n",
      "I'm making an exploitative decision to place a small ETC in region 15\n",
      "Timestep  9\n",
      "I'm making an exploitative decision to place a small ETC in region 11\n",
      "Timestep  10\n",
      "I'm making an exploitative decision to place a small ETC in region 15\n",
      "Timestep  11\n",
      "I'm making an exploitative decision to place a small ETC in region 13\n",
      "Timestep  12\n",
      "Timestep  13\n",
      "Timestep  14\n",
      "Timestep  15\n",
      "Timestep  16\n",
      "Timestep  17\n",
      "Timestep  18\n",
      "Timestep  19\n",
      "Timestep  20\n",
      "I'm making an exploitative decision to place a small ETC in region 9\n",
      "Timestep  21\n",
      "Timestep  22\n",
      "Timestep  23\n",
      "I'm making an exploitative decision to place a small ETC in region 5\n",
      "A person is moving from region  6\n",
      "to region  0\n",
      "Timestep  24\n",
      "I'm making an exploitative decision to place a small ETC in region 8\n",
      "Timestep  25\n"
     ]
    },
    {
     "data": {
      "text/plain": [
       "[0.7653456908458475, 26, 0.37174083179477124, 927.75, 1818.3901509253071]"
      ]
     },
     "execution_count": 1,
     "metadata": {},
     "output_type": "execute_result"
    }
   ],
   "source": [
    "from model import ebola_model\n",
    "\n",
    "ebola_model(I14 = 25, exploration_ratio=0, store_data = True)"
   ]
  },
  {
   "cell_type": "code",
   "execution_count": 6,
   "metadata": {},
   "outputs": [
    {
     "ename": "ValueError",
     "evalue": "The truth value of an array with more than one element is ambiguous. Use a.any() or a.all()",
     "output_type": "error",
     "traceback": [
      "\u001b[1;31m---------------------------------------------------------------------------\u001b[0m",
      "\u001b[1;31mValueError\u001b[0m                                Traceback (most recent call last)",
      "\u001b[1;32m<ipython-input-6-f1ff3b692aca>\u001b[0m in \u001b[0;36m<module>\u001b[1;34m()\u001b[0m\n\u001b[0;32m     13\u001b[0m \u001b[1;33m\u001b[0m\u001b[0m\n\u001b[0;32m     14\u001b[0m \u001b[0mplt\u001b[0m\u001b[1;33m.\u001b[0m\u001b[0mfigure\u001b[0m\u001b[1;33m(\u001b[0m\u001b[1;36m1\u001b[0m\u001b[1;33m)\u001b[0m\u001b[1;33m\u001b[0m\u001b[0m\n\u001b[1;32m---> 15\u001b[1;33m \u001b[0mplt\u001b[0m\u001b[1;33m.\u001b[0m\u001b[0mplot\u001b[0m\u001b[1;33m(\u001b[0m\u001b[0mx1\u001b[0m\u001b[1;33m,\u001b[0m \u001b[0mf\u001b[0m\u001b[1;33m(\u001b[0m\u001b[0mx1\u001b[0m\u001b[1;33m)\u001b[0m\u001b[1;33m)\u001b[0m\u001b[1;33m\u001b[0m\u001b[0m\n\u001b[0m",
      "\u001b[1;32m<ipython-input-6-f1ff3b692aca>\u001b[0m in \u001b[0;36mf\u001b[1;34m(x)\u001b[0m\n\u001b[0;32m      8\u001b[0m     \u001b[0mr2\u001b[0m \u001b[1;33m=\u001b[0m \u001b[1;36m0.26712774701116787\u001b[0m\u001b[1;33m\u001b[0m\u001b[0m\n\u001b[0;32m      9\u001b[0m     \u001b[0mw\u001b[0m \u001b[1;33m=\u001b[0m \u001b[1;36m0.2990506473693649\u001b[0m\u001b[1;33m\u001b[0m\u001b[0m\n\u001b[1;32m---> 10\u001b[1;33m     \u001b[1;32mreturn\u001b[0m \u001b[0mmin\u001b[0m\u001b[1;33m(\u001b[0m\u001b[0mmax\u001b[0m\u001b[1;33m(\u001b[0m\u001b[0mw\u001b[0m \u001b[1;33m*\u001b[0m \u001b[0mabs\u001b[0m\u001b[1;33m(\u001b[0m\u001b[1;33m(\u001b[0m\u001b[0mx\u001b[0m\u001b[1;33m-\u001b[0m\u001b[0mc1\u001b[0m\u001b[1;33m)\u001b[0m\u001b[1;33m/\u001b[0m\u001b[0mr1\u001b[0m\u001b[1;33m)\u001b[0m\u001b[1;33m**\u001b[0m\u001b[1;36m3\u001b[0m \u001b[1;33m+\u001b[0m \u001b[1;33m(\u001b[0m\u001b[1;36m1\u001b[0m\u001b[1;33m-\u001b[0m\u001b[0mw\u001b[0m\u001b[1;33m)\u001b[0m \u001b[1;33m*\u001b[0m \u001b[0mabs\u001b[0m\u001b[1;33m(\u001b[0m\u001b[1;33m(\u001b[0m\u001b[0mx\u001b[0m\u001b[1;33m-\u001b[0m\u001b[0mc2\u001b[0m\u001b[1;33m)\u001b[0m\u001b[1;33m/\u001b[0m\u001b[0mr2\u001b[0m\u001b[1;33m)\u001b[0m\u001b[1;33m**\u001b[0m\u001b[1;36m3\u001b[0m\u001b[1;33m,\u001b[0m\u001b[1;36m0\u001b[0m\u001b[1;33m)\u001b[0m\u001b[1;33m,\u001b[0m\u001b[1;36m1\u001b[0m\u001b[1;33m)\u001b[0m\u001b[1;33m\u001b[0m\u001b[0m\n\u001b[0m\u001b[0;32m     11\u001b[0m \u001b[1;33m\u001b[0m\u001b[0m\n\u001b[0;32m     12\u001b[0m \u001b[0mx1\u001b[0m \u001b[1;33m=\u001b[0m \u001b[0mnp\u001b[0m\u001b[1;33m.\u001b[0m\u001b[0marange\u001b[0m\u001b[1;33m(\u001b[0m\u001b[1;36m0.0\u001b[0m\u001b[1;33m,\u001b[0m \u001b[1;36m1.0\u001b[0m\u001b[1;33m,\u001b[0m \u001b[1;36m0.01\u001b[0m\u001b[1;33m)\u001b[0m\u001b[1;33m\u001b[0m\u001b[0m\n",
      "\u001b[1;31mValueError\u001b[0m: The truth value of an array with more than one element is ambiguous. Use a.any() or a.all()"
     ]
    },
    {
     "data": {
      "text/plain": [
       "<Figure size 432x288 with 0 Axes>"
      ]
     },
     "metadata": {},
     "output_type": "display_data"
    }
   ],
   "source": [
    "import numpy as np\n",
    "import matplotlib.pyplot as plt\n",
    "\n",
    "def f(x):\n",
    "    c1 = 0.7762137795277437\n",
    "    c2 = 0.6400031260307886\n",
    "    r1 = 0.35322171062073243\n",
    "    r2 = 0.26712774701116787\n",
    "    w = 0.2990506473693649\n",
    "    return min(max(w * abs((x-c1)/r1)**3 + (1-w) * abs((x-c2)/r2)**3,0),1)\n",
    "\n",
    "x1 = np.arange(0.0, 1.0, 0.01)\n",
    "\n",
    "plt.figure(1)\n",
    "plt.plot(x1, f(x1))\n"
   ]
  }
 ],
 "metadata": {
  "kernelspec": {
   "display_name": "Python 3",
   "language": "python",
   "name": "python3"
  },
  "language_info": {
   "codemirror_mode": {
    "name": "ipython",
    "version": 3
   },
   "file_extension": ".py",
   "mimetype": "text/x-python",
   "name": "python",
   "nbconvert_exporter": "python",
   "pygments_lexer": "ipython3",
   "version": "3.6.4"
  }
 },
 "nbformat": 4,
 "nbformat_minor": 2
}
