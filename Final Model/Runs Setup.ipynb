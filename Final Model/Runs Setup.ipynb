{
 "cells": [
  {
   "cell_type": "markdown",
   "metadata": {},
   "source": [
    "## MOEA"
   ]
  },
  {
   "cell_type": "code",
   "execution_count": 3,
   "metadata": {},
   "outputs": [],
   "source": [
    "from model_with_policy import borg_ebola\n",
    "\n",
    "import numpy as np\n",
    "\n",
    "from ema_workbench import (Model, IntegerParameter, RealParameter, ReplicatorModel,\n",
    "                           TimeSeriesOutcome, ScalarOutcome, ArrayOutcome, Policy, Scenario)\n",
    "\n",
    "#model = Model('Ebola', function=borg_ebola)\n",
    "model = ReplicatorModel('Ebola', function=borg_ebola)\n",
    "\n",
    "model.replications = 5\n",
    "\n",
    "model.outcomes = [ScalarOutcome('mean effectiveness', ScalarOutcome.MINIMIZE, function=np.mean, \n",
    "                               variable_name='Effectiveness'),\n",
    "                  ScalarOutcome('mean time until containment', ScalarOutcome.MINIMIZE, function = np.mean, \n",
    "                               variable_name='Time until Containment'),\n",
    "                  ScalarOutcome('mean difference in met demand', ScalarOutcome.MINIMIZE, function = np.mean, \n",
    "                               variable_name='Difference in Met Demand'),\n",
    "                  ScalarOutcome('mean difference in arrival time', ScalarOutcome.MINIMIZE, function = np.mean, \n",
    "                               variable_name='Difference in Arrival Time'),\n",
    "                  ScalarOutcome('mean cost per death prevented', ScalarOutcome.MINIMIZE, function = np.mean, \n",
    "                               variable_name='Cost per Death Prevented')]\n",
    "\n",
    "            \n",
    "model.uncertainties = [IntegerParameter('I4', 1, 8),\n",
    "                       IntegerParameter('I14', 20, 35),\n",
    "                       IntegerParameter('I15', 25, 40),\n",
    "                       RealParameter('beta_i', 0.1, 0.5),\n",
    "                       RealParameter('travel_rate', 0.04, 0.1)]\n",
    "\n",
    "\n",
    "model.levers = [RealParameter('c1', -1.0, 1.0),\n",
    "               RealParameter('c2', -1.0, 1.0),\n",
    "               RealParameter('r1', 0.000001, 1.0),\n",
    "               RealParameter('r2', 0.000001, 1.0),\n",
    "               RealParameter('w', 0, 1.0)]\n",
    "                \n",
    "\n",
    "reference = Scenario('reference', I4 =3, I14 = 25, I15 = 32, beta_i = 0.32, travel_rate = 0.05)  "
   ]
  },
  {
   "cell_type": "code",
   "execution_count": 4,
   "metadata": {},
   "outputs": [
    {
     "name": "stderr",
     "output_type": "stream",
     "text": [
      "[MainProcess/INFO] pool started\n",
      "[MainProcess/INFO] generation 0: 0/5 nfe\n",
      "[MainProcess/INFO] optimization completed, found 19 solutions\n",
      "[MainProcess/INFO] terminating pool\n"
     ]
    }
   ],
   "source": [
    "from ema_workbench import SequentialEvaluator, MultiprocessingEvaluator, ema_logging\n",
    "\n",
    "from ema_workbench.em_framework.optimization import (HyperVolume,\n",
    "                                                     EpsilonProgress)\n",
    "\n",
    "ema_logging.log_to_stderr(ema_logging.INFO)\n",
    "\n",
    "convergence_metrics = [HyperVolume(minimum=[-1,0,0,0,0], maximum=[0,26, 3, 2000, 1000000]),\n",
    "                       EpsilonProgress()]\n",
    "\n",
    "\n",
    "#with SequentialEvaluator(model) as evaluator:\n",
    "with MultiprocessingEvaluator(model) as evaluator:\n",
    "    results, convergence = evaluator.optimize(nfe=5, searchover='levers',\n",
    "                                 convergence=convergence_metrics,\n",
    "                                 epsilons=[0.02, 2, 0.02, 20, 100],\n",
    "                                 reference=reference)\n",
    "    \n",
    "    \n",
    "    \n",
    "import pandas as pd\n",
    "results.to_csv('optimization_results')\n",
    "convergence.to_csv('convergence')"
   ]
  },
  {
   "cell_type": "code",
   "execution_count": 5,
   "metadata": {},
   "outputs": [
    {
     "name": "stdout",
     "output_type": "stream",
     "text": [
      "          c1        c2        r1        r2         w  mean effectiveness  \\\n",
      "0  -0.778236  0.993524  0.830340  0.302128  0.356558           -0.532122   \n",
      "1   0.821742  0.851250  0.924757  0.975154  0.690200           -0.834594   \n",
      "2   0.424489  0.599351  0.968607  0.144504  0.074415           -0.753625   \n",
      "3  -0.287597 -0.624272  0.430219  0.453996  0.415622           -0.420876   \n",
      "4   0.160214  0.605888  0.944283  0.177887  0.182978           -0.749032   \n",
      "5   0.368609  0.664853  0.277612  0.444235  0.435190           -0.657079   \n",
      "6  -0.095870 -0.514715  0.170478  0.240287  0.728119           -0.465617   \n",
      "7   0.921653  0.376972  0.689541  0.618193  0.296660           -0.829265   \n",
      "8  -0.238029  0.390873  0.061404  0.658844  0.354198           -0.394910   \n",
      "9  -0.684508  0.594549  0.944961  0.839558  0.090236           -0.814826   \n",
      "10  0.550667  0.829680  0.328605  0.737477  0.162422           -0.837041   \n",
      "11  0.610319  0.701386  0.345260  0.649909  0.908176           -0.800954   \n",
      "12  0.317986  0.702038  0.765682  0.477627  0.482267           -0.787171   \n",
      "13  0.487988  0.986859  0.671577  0.587303  0.392649           -0.808635   \n",
      "14 -0.934860 -0.610046  0.000280  0.901769  0.820717           -0.408324   \n",
      "15  0.663045  0.692666  0.445557  0.356777  0.867542           -0.833460   \n",
      "16  0.286594  0.405040  0.944240  0.389587  0.148332           -0.722605   \n",
      "17 -0.439473  0.737653  0.660767  0.175928  0.107684           -0.640908   \n",
      "18  0.806667 -0.072816  0.554579  0.971655  0.040478           -0.715993   \n",
      "\n",
      "    mean time until containment  mean difference in met demand  \\\n",
      "0                          24.8                       0.808264   \n",
      "1                          18.4                       0.498153   \n",
      "2                          23.8                       0.161231   \n",
      "3                          26.0                       0.755805   \n",
      "4                          26.0                       0.157418   \n",
      "5                          20.6                       0.904030   \n",
      "6                          26.0                       0.791419   \n",
      "7                          19.0                       0.365822   \n",
      "8                          26.0                       0.915890   \n",
      "9                          22.8                       0.388842   \n",
      "10                         16.0                       0.392181   \n",
      "11                         23.0                       0.267155   \n",
      "12                         20.0                       0.299347   \n",
      "13                         19.0                       0.326195   \n",
      "14                         26.0                       0.968719   \n",
      "15                         16.4                       0.409370   \n",
      "16                         22.8                       0.546805   \n",
      "17                         25.2                       0.594082   \n",
      "18                         23.4                       0.580228   \n",
      "\n",
      "    mean difference in arrival time  mean cost per death prevented  \n",
      "0                          411.0125                    5338.092728  \n",
      "1                         1249.8750                    1597.190024  \n",
      "2                          543.4500                    3486.924212  \n",
      "3                          452.8500                    6328.193083  \n",
      "4                          520.7750                    3490.767819  \n",
      "5                          642.8125                    3980.656433  \n",
      "6                          429.3625                    5730.223024  \n",
      "7                          918.7875                    2307.959298  \n",
      "8                          364.8250                    6890.376104  \n",
      "9                          779.3875                    2495.311841  \n",
      "10                        1021.3000                    2218.503562  \n",
      "11                         747.4750                    2682.212410  \n",
      "12                         714.0125                    2548.640650  \n",
      "13                         878.3125                    2639.469145  \n",
      "14                         391.9250                    6652.152429  \n",
      "15                        1018.5875                    2018.348852  \n",
      "16                         619.7750                    3337.788495  \n",
      "17                         483.1500                    4223.652160  \n",
      "18                         605.9250                    3256.355231  \n",
      "   hypervolume  epsilon_progress  nfe\n",
      "0          0.0                 0    0\n"
     ]
    }
   ],
   "source": [
    "print(results)\n",
    "print(convergence)"
   ]
  }
 ],
 "metadata": {
  "kernelspec": {
   "display_name": "Python 3",
   "language": "python",
   "name": "python3"
  },
  "language_info": {
   "codemirror_mode": {
    "name": "ipython",
    "version": 3
   },
   "file_extension": ".py",
   "mimetype": "text/x-python",
   "name": "python",
   "nbconvert_exporter": "python",
   "pygments_lexer": "ipython3",
   "version": "3.7.3"
  }
 },
 "nbformat": 4,
 "nbformat_minor": 2
}
