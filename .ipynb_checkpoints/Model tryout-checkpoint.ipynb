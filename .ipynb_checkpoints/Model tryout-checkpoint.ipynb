{
 "cells": [
  {
   "cell_type": "code",
   "execution_count": 3,
   "metadata": {},
   "outputs": [
    {
     "ename": "TypeError",
     "evalue": "calc_suspectible() missing 1 required positional argument: 'time'",
     "output_type": "error",
     "traceback": [
      "\u001b[1;31m---------------------------------------------------------------------------\u001b[0m",
      "\u001b[1;31mTypeError\u001b[0m                                 Traceback (most recent call last)",
      "\u001b[1;32m<ipython-input-3-6dbf0a0402a0>\u001b[0m in \u001b[0;36m<module>\u001b[1;34m()\u001b[0m\n\u001b[0;32m     12\u001b[0m \u001b[0mtimevec\u001b[0m \u001b[1;33m=\u001b[0m \u001b[0mnp\u001b[0m\u001b[1;33m.\u001b[0m\u001b[0mlinspace\u001b[0m\u001b[1;33m(\u001b[0m\u001b[1;36m0\u001b[0m\u001b[1;33m,\u001b[0m\u001b[1;36m10\u001b[0m\u001b[1;33m,\u001b[0m\u001b[1;36m100\u001b[0m\u001b[1;33m)\u001b[0m\u001b[1;33m\u001b[0m\u001b[0m\n\u001b[0;32m     13\u001b[0m \u001b[1;33m\u001b[0m\u001b[0m\n\u001b[1;32m---> 14\u001b[1;33m \u001b[0msuspectible\u001b[0m \u001b[1;33m=\u001b[0m \u001b[0modeint\u001b[0m\u001b[1;33m(\u001b[0m\u001b[0mcalc_suspectible\u001b[0m\u001b[1;33m,\u001b[0m \u001b[0my0\u001b[0m\u001b[1;33m=\u001b[0m\u001b[1;33m(\u001b[0m\u001b[1;36m4300000\u001b[0m\u001b[1;33m,\u001b[0m\u001b[1;36m88\u001b[0m\u001b[1;33m)\u001b[0m\u001b[1;33m,\u001b[0m \u001b[0mt\u001b[0m\u001b[1;33m=\u001b[0m\u001b[0mtimevec\u001b[0m\u001b[1;33m)\u001b[0m\u001b[1;33m\u001b[0m\u001b[0m\n\u001b[0m\u001b[0;32m     15\u001b[0m \u001b[0minfected\u001b[0m \u001b[1;33m=\u001b[0m \u001b[0modeint\u001b[0m\u001b[1;33m(\u001b[0m\u001b[0mcalc_infected\u001b[0m\u001b[1;33m,\u001b[0m \u001b[0my0\u001b[0m\u001b[1;33m=\u001b[0m\u001b[1;33m(\u001b[0m\u001b[1;36m88\u001b[0m\u001b[1;33m,\u001b[0m \u001b[1;36m4300000\u001b[0m\u001b[1;33m)\u001b[0m\u001b[1;33m,\u001b[0m \u001b[0mt\u001b[0m\u001b[1;33m=\u001b[0m\u001b[0mtimevec\u001b[0m\u001b[1;33m)\u001b[0m\u001b[1;33m\u001b[0m\u001b[0m\n\u001b[0;32m     16\u001b[0m \u001b[1;33m\u001b[0m\u001b[0m\n",
      "\u001b[1;32m~\\Anaconda3\\lib\\site-packages\\scipy\\integrate\\odepack.py\u001b[0m in \u001b[0;36modeint\u001b[1;34m(func, y0, t, args, Dfun, col_deriv, full_output, ml, mu, rtol, atol, tcrit, h0, hmax, hmin, ixpr, mxstep, mxhnil, mxordn, mxords, printmessg, tfirst)\u001b[0m\n\u001b[0;32m    242\u001b[0m                              \u001b[0mfull_output\u001b[0m\u001b[1;33m,\u001b[0m \u001b[0mrtol\u001b[0m\u001b[1;33m,\u001b[0m \u001b[0matol\u001b[0m\u001b[1;33m,\u001b[0m \u001b[0mtcrit\u001b[0m\u001b[1;33m,\u001b[0m \u001b[0mh0\u001b[0m\u001b[1;33m,\u001b[0m \u001b[0mhmax\u001b[0m\u001b[1;33m,\u001b[0m \u001b[0mhmin\u001b[0m\u001b[1;33m,\u001b[0m\u001b[1;33m\u001b[0m\u001b[0m\n\u001b[0;32m    243\u001b[0m                              \u001b[0mixpr\u001b[0m\u001b[1;33m,\u001b[0m \u001b[0mmxstep\u001b[0m\u001b[1;33m,\u001b[0m \u001b[0mmxhnil\u001b[0m\u001b[1;33m,\u001b[0m \u001b[0mmxordn\u001b[0m\u001b[1;33m,\u001b[0m \u001b[0mmxords\u001b[0m\u001b[1;33m,\u001b[0m\u001b[1;33m\u001b[0m\u001b[0m\n\u001b[1;32m--> 244\u001b[1;33m                              int(bool(tfirst)))\n\u001b[0m\u001b[0;32m    245\u001b[0m     \u001b[1;32mif\u001b[0m \u001b[0moutput\u001b[0m\u001b[1;33m[\u001b[0m\u001b[1;33m-\u001b[0m\u001b[1;36m1\u001b[0m\u001b[1;33m]\u001b[0m \u001b[1;33m<\u001b[0m \u001b[1;36m0\u001b[0m\u001b[1;33m:\u001b[0m\u001b[1;33m\u001b[0m\u001b[0m\n\u001b[0;32m    246\u001b[0m         \u001b[0mwarning_msg\u001b[0m \u001b[1;33m=\u001b[0m \u001b[0m_msgs\u001b[0m\u001b[1;33m[\u001b[0m\u001b[0moutput\u001b[0m\u001b[1;33m[\u001b[0m\u001b[1;33m-\u001b[0m\u001b[1;36m1\u001b[0m\u001b[1;33m]\u001b[0m\u001b[1;33m]\u001b[0m \u001b[1;33m+\u001b[0m \u001b[1;34m\" Run with full_output = 1 to get quantitative information.\"\u001b[0m\u001b[1;33m\u001b[0m\u001b[0m\n",
      "\u001b[1;31mTypeError\u001b[0m: calc_suspectible() missing 1 required positional argument: 'time'"
     ]
    }
   ],
   "source": [
    "from scipy.integrate import odeint\n",
    "import numpy as np\n",
    "\n",
    "def calc_suspectible(suspectible, infected, time):\n",
    "    return  -(0.33*infected) * (suspectible /(suspectible + infected))\n",
    "\n",
    "\n",
    "def calc_infected(infected, suspectible, time):\n",
    "    return (0.33*infected) * (suspectible / (suspectible + infected))\n",
    "\n",
    "\n",
    "timevec = np.linspace(0,10,100)\n",
    "\n",
    "suspectible = odeint(calc_suspectible, y0=(4300000,88), t=timevec)\n",
    "infected = odeint(calc_infected, y0=(88, 4300000), t=timevec)\n",
    "\n"
   ]
  },
  {
   "cell_type": "code",
   "execution_count": 6,
   "metadata": {},
   "outputs": [],
   "source": [
    "from scipy.integrate import odeint\n",
    "import numpy as np\n",
    "\n",
    "def calc_infected(infected,time):\n",
    "    return ((0.33 * infected) * (4300000/(4300000+infected)))\n",
    "\n",
    "time_vec = np.linspace(0,10,1000)\n",
    "\n",
    "infected = odeint(calc_infected, y0=88, t=time_vec)"
   ]
  },
  {
   "cell_type": "code",
   "execution_count": 9,
   "metadata": {},
   "outputs": [
    {
     "data": {
      "text/plain": [
       "[<matplotlib.lines.Line2D at 0x8b00ff0>]"
      ]
     },
     "execution_count": 9,
     "metadata": {},
     "output_type": "execute_result"
    },
    {
     "data": {
      "image/png": "[encoded data removed]",
      "text/plain": [
       "<Figure size 432x288 with 1 Axes>"
      ]
     },
     "metadata": {},
     "output_type": "display_data"
    }
   ],
   "source": [
    "import matplotlib.pyplot as plt\n",
    "\n",
    "\n",
    "plt.figure()\n",
    "plt.plot(infected)"
   ]
  },
  {
   "cell_type": "code",
   "execution_count": 1,
   "metadata": {},
   "outputs": [
    {
     "data": {
      "text/plain": [
       "Text(0.5,1,'Treated')"
      ]
     },
     "execution_count": 1,
     "metadata": {},
     "output_type": "execute_result"
    }
   ],
   "source": [
    "#constants\n",
    "from scipy.integrate import odeint\n",
    "import numpy as np\n",
    "import matplotlib.pyplot as plt\n",
    "\n",
    "\n",
    "fat_without = 0.4\n",
    "t_fat_without = 0.9\n",
    "t_rec_without = 2.5\n",
    "\n",
    "fat_with = 0.35\n",
    "t_fat_with = 1\n",
    "t_rec_with = 1.56\n",
    "\n",
    "\n",
    "safe_b_rate = 0.73\n",
    "\n",
    "#constant for now\n",
    "ETC_cap = 50\n",
    "\n",
    "\n",
    "def calc_population(y,t):\n",
    "    suspectible, infected, recovered, deceased, funeral, treated = y\n",
    "    \n",
    "    dsdt = -(0.33*infected + 0.68*deceased) * (suspectible /(suspectible + infected))\n",
    "\n",
    "    drdt = (((1-fat_without)*infected) / t_rec_without\n",
    "            + (1-fat_with)*treated / t_rec_with)\n",
    "    \n",
    "    if(treated < 50):\n",
    "        dtrdt = min(ETC_cap - treated, infected) -(1-fat_with)*treated / t_rec_with - fat_with*treated / t_fat_with \n",
    "        didt = ((0.33*infected + 0.68*deceased) * (suspectible /(suspectible + infected))\n",
    "            - (fat_without*infected) / t_rec_without\n",
    "           - (fat_without)*infected / t_fat_without\n",
    "            - min(ETC_cap - treated, infected))\n",
    "    else:\n",
    "        dtrdt = -(1-fat_with)*treated / t_rec_with - fat_with*treated / t_fat_with \n",
    "        didt = ((0.33*infected + 0.68*deceased) * (suspectible /(suspectible + infected))\n",
    "            - (fat_without*infected) / t_rec_without\n",
    "           - (fat_without)*infected / t_fat_without)\n",
    "        \n",
    "    dddt = ((fat_without)*infected / t_fat_without \n",
    "            - deceased * 0.73\n",
    "            + fat_with*treated / t_fat_with)\n",
    "    \n",
    "    dfdt = deceased * 0.73\n",
    "    \n",
    "    \n",
    "    dydt = [dsdt, didt, drdt, dddt, dfdt, dtrdt]\n",
    "    return dydt  \n",
    "                                                                                          \n",
    "time_vec = np.linspace(0,10,100)\n",
    "y0 = [4300000, 88, 0, 0, 0, 0]  \n",
    "                                                                                          \n",
    "population = odeint(calc_population, y0, t=time_vec)\n",
    "\n",
    "\n",
    "fig, axs = plt.subplots(6, 1)\n",
    "\n",
    "axs[0].plot(population[:,0])\n",
    "axs[0].set_title(\"Suspectible\")\n",
    "\n",
    "axs[1].plot(population[:,1])\n",
    "axs[1].set_title(\"Infected\")\n",
    "\n",
    "axs[2].plot(population[:,2])\n",
    "axs[2].set_title(\"Recovered\")\n",
    "\n",
    "axs[3].plot(population[:,3])\n",
    "axs[3].set_title(\"Deceased\")\n",
    "\n",
    "axs[4].plot(population[:,4])\n",
    "axs[4].set_title(\"Funeral\")\n",
    "\n",
    "axs[5].plot(population[:,5])\n",
    "axs[5].set_title(\"Treated\")\n",
    "                                 "
   ]
  },
  {
   "cell_type": "code",
   "execution_count": 4,
   "metadata": {},
   "outputs": [],
   "source": [
    "from scipy.integrate import odeint\n",
    "import numpy as np\n",
    "import matplotlib.pyplot as plt\n",
    "\n",
    "def calc_population(y,t, fat_without, t_fat_without, t_rec_without, fat_with, t_fat_with, t_rec_with, ETC_cap):\n",
    "    suspectible, infected, recovered, deceased, funeral, treated = y\n",
    "    \n",
    "    dsdt = -(0.33*infected + 0.68*deceased) * (suspectible /(suspectible + infected))\n",
    "\n",
    "    drdt = (((1-fat_without)*infected) / t_rec_without\n",
    "            + (1-fat_with)*treated / t_rec_with)\n",
    "    \n",
    "    if(treated < 50):\n",
    "        dtrdt = min(ETC_cap - treated, infected) -(1-fat_with)*treated / t_rec_with - fat_with*treated / t_fat_with \n",
    "        didt = ((0.33*infected + 0.68*deceased) * (suspectible /(suspectible + infected))\n",
    "            - (fat_without*infected) / t_rec_without\n",
    "           - (fat_without)*infected / t_fat_without\n",
    "            - min(ETC_cap - treated, infected))\n",
    "    else:\n",
    "        dtrdt = -(1-fat_with)*treated / t_rec_with - fat_with*treated / t_fat_with \n",
    "        didt = ((0.33*infected + 0.68*deceased) * (suspectible /(suspectible + infected))\n",
    "            - (fat_without*infected) / t_rec_without\n",
    "           - (fat_without)*infected / t_fat_without)\n",
    "        \n",
    "    dddt = ((fat_without)*infected / t_fat_without \n",
    "            - deceased * 0.73\n",
    "            + fat_with*treated / t_fat_with)\n",
    "    \n",
    "    dfdt = deceased * 0.73\n",
    "    \n",
    "    \n",
    "    dydt = [dsdt, didt, drdt, dddt, dfdt, dtrdt]\n",
    "    return dydt\n",
    "\n",
    "\n",
    "\n",
    "\n",
    "def ebola_model(fat_without = 0.4,\n",
    "               t_fat_without = 0.9,\n",
    "               t_rec_without = 2.5,\n",
    "               fat_with = 0.35,\n",
    "               t_fat_with =1,\n",
    "               t_rec_with = 1.56,\n",
    "               safe_b_rate =0.73,\n",
    "               ETC_cap = 50):\n",
    "    \n",
    "    time_vec = np.linspace(0,10,100)\n",
    "    y0 = [4300000, 88, 0, 0, 0, 0]  \n",
    "                                                                                          \n",
    "    population = odeint(calc_population, y0, t=time_vec, args=(fat_without, t_fat_without, t_rec_without, fat_with, t_fat_with, t_rec_with, ETC_cap))\n",
    "    \n",
    "    S, I, R, D, F, T = population.T\n",
    "    \n",
    "    return S,I,R,D,F,T"
   ]
  },
  {
   "cell_type": "code",
   "execution_count": 7,
   "metadata": {},
   "outputs": [],
   "source": [
    "from ema_workbench import Model, RealParameter, TimeSeriesOutcome\n",
    "\n",
    "model = Model('Ebola', function=ebola_model)\n",
    "\n",
    "model.uncertainties = [RealParameter('fat_without', 0.4, 0.7)]\n",
    "\n",
    "model.outcomes = [TimeSeriesOutcome('S'),\n",
    "                  TimeSeriesOutcome('I'),\n",
    "                  TimeSeriesOutcome('R'),\n",
    "                  TimeSeriesOutcome('D'),\n",
    "                  TimeSeriesOutcome('F'),\n",
    "                  TimeSeriesOutcome('T')]\n"
   ]
  },
  {
   "cell_type": "code",
   "execution_count": 13,
   "metadata": {},
   "outputs": [
    {
     "ename": "EMAError",
     "evalue": "unknown density plot type",
     "output_type": "error",
     "traceback": [
      "\u001b[1;31m---------------------------------------------------------------------------\u001b[0m",
      "\u001b[1;31mEMAError\u001b[0m                                  Traceback (most recent call last)",
      "\u001b[1;32m<ipython-input-13-9164c3ed059a>\u001b[0m in \u001b[0;36m<module>\u001b[1;34m()\u001b[0m\n\u001b[0;32m      8\u001b[0m \u001b[1;32mfrom\u001b[0m \u001b[0mema_workbench\u001b[0m\u001b[1;33m.\u001b[0m\u001b[0manalysis\u001b[0m\u001b[1;33m.\u001b[0m\u001b[0mplotting\u001b[0m \u001b[1;32mimport\u001b[0m \u001b[0mlines\u001b[0m\u001b[1;33m\u001b[0m\u001b[0m\n\u001b[0;32m      9\u001b[0m \u001b[1;33m\u001b[0m\u001b[0m\n\u001b[1;32m---> 10\u001b[1;33m \u001b[0mfigure\u001b[0m \u001b[1;33m=\u001b[0m \u001b[0mlines\u001b[0m\u001b[1;33m(\u001b[0m\u001b[1;33m(\u001b[0m\u001b[0mexperiments\u001b[0m\u001b[1;33m,\u001b[0m \u001b[0moutcomes\u001b[0m\u001b[1;33m)\u001b[0m\u001b[1;33m,\u001b[0m \u001b[0mdensity\u001b[0m\u001b[1;33m=\u001b[0m\u001b[1;32mTrue\u001b[0m\u001b[1;33m)\u001b[0m \u001b[1;31m#show lines, and end state density\u001b[0m\u001b[1;33m\u001b[0m\u001b[0m\n\u001b[0m\u001b[0;32m     11\u001b[0m \u001b[0mplt\u001b[0m\u001b[1;33m.\u001b[0m\u001b[0mshow\u001b[0m\u001b[1;33m(\u001b[0m\u001b[1;33m)\u001b[0m \u001b[1;31m#show figure\u001b[0m\u001b[1;33m\u001b[0m\u001b[0m\n",
      "\u001b[1;32m~\\Anaconda3\\lib\\site-packages\\ema_workbench\\analysis\\plotting.py\u001b[0m in \u001b[0;36mlines\u001b[1;34m(results, outcomes_to_show, group_by, grouping_specifiers, density, legend, titles, ylabels, experiments_to_show, show_envelope, log)\u001b[0m\n\u001b[0;32m    377\u001b[0m         \u001b[1;32melse\u001b[0m\u001b[1;33m:\u001b[0m\u001b[1;33m\u001b[0m\u001b[0m\n\u001b[0;32m    378\u001b[0m             simple_lines(outcomes, outcome_to_plot, time, density,\n\u001b[1;32m--> 379\u001b[1;33m                          ax, ax_d, log)\n\u001b[0m\u001b[0;32m    380\u001b[0m         \u001b[0max\u001b[0m\u001b[1;33m.\u001b[0m\u001b[0mset_xlabel\u001b[0m\u001b[1;33m(\u001b[0m\u001b[0mTIME_LABEL\u001b[0m\u001b[1;33m)\u001b[0m\u001b[1;33m\u001b[0m\u001b[0m\n\u001b[0;32m    381\u001b[0m         \u001b[0mdo_ylabels\u001b[0m\u001b[1;33m(\u001b[0m\u001b[0max\u001b[0m\u001b[1;33m,\u001b[0m \u001b[0mylabels\u001b[0m\u001b[1;33m,\u001b[0m \u001b[0moutcome_to_plot\u001b[0m\u001b[1;33m)\u001b[0m\u001b[1;33m\u001b[0m\u001b[0m\n",
      "\u001b[1;32m~\\Anaconda3\\lib\\site-packages\\ema_workbench\\analysis\\plotting.py\u001b[0m in \u001b[0;36msimple_lines\u001b[1;34m(outcomes, outcome_to_plot, time, density, ax, ax_d, log)\u001b[0m\n\u001b[0;32m    598\u001b[0m     \u001b[0max\u001b[0m\u001b[1;33m.\u001b[0m\u001b[0mplot\u001b[0m\u001b[1;33m(\u001b[0m\u001b[0mtime\u001b[0m\u001b[1;33m.\u001b[0m\u001b[0mT\u001b[0m\u001b[1;33m,\u001b[0m \u001b[0mvalue\u001b[0m\u001b[1;33m.\u001b[0m\u001b[0mT\u001b[0m\u001b[1;33m)\u001b[0m\u001b[1;33m\u001b[0m\u001b[0m\n\u001b[0;32m    599\u001b[0m     \u001b[1;32mif\u001b[0m \u001b[0mdensity\u001b[0m\u001b[1;33m:\u001b[0m\u001b[1;33m\u001b[0m\u001b[0m\n\u001b[1;32m--> 600\u001b[1;33m         \u001b[0msimple_density\u001b[0m\u001b[1;33m(\u001b[0m\u001b[0mdensity\u001b[0m\u001b[1;33m,\u001b[0m \u001b[0mvalue\u001b[0m\u001b[1;33m,\u001b[0m \u001b[0max_d\u001b[0m\u001b[1;33m,\u001b[0m \u001b[0max\u001b[0m\u001b[1;33m,\u001b[0m \u001b[0mlog\u001b[0m\u001b[1;33m)\u001b[0m\u001b[1;33m\u001b[0m\u001b[0m\n\u001b[0m\u001b[0;32m    601\u001b[0m \u001b[1;33m\u001b[0m\u001b[0m\n\u001b[0;32m    602\u001b[0m \u001b[1;33m\u001b[0m\u001b[0m\n",
      "\u001b[1;32m~\\Anaconda3\\lib\\site-packages\\ema_workbench\\analysis\\plotting_util.py\u001b[0m in \u001b[0;36msimple_density\u001b[1;34m(density, value, ax_d, ax, log)\u001b[0m\n\u001b[0;32m    302\u001b[0m         \u001b[0mplot_violinplot\u001b[0m\u001b[1;33m(\u001b[0m\u001b[0max_d\u001b[0m\u001b[1;33m,\u001b[0m \u001b[1;33m[\u001b[0m\u001b[0mvalue\u001b[0m\u001b[1;33m[\u001b[0m\u001b[1;33m:\u001b[0m\u001b[1;33m,\u001b[0m\u001b[1;33m-\u001b[0m\u001b[1;36m1\u001b[0m\u001b[1;33m]\u001b[0m\u001b[1;33m]\u001b[0m\u001b[1;33m,\u001b[0m \u001b[0mlog\u001b[0m\u001b[1;33m)\u001b[0m\u001b[1;33m\u001b[0m\u001b[0m\n\u001b[0;32m    303\u001b[0m     \u001b[1;32melse\u001b[0m\u001b[1;33m:\u001b[0m\u001b[1;33m\u001b[0m\u001b[0m\n\u001b[1;32m--> 304\u001b[1;33m         \u001b[1;32mraise\u001b[0m \u001b[0mEMAError\u001b[0m\u001b[1;33m(\u001b[0m\u001b[1;34m\"unknown density plot type\"\u001b[0m\u001b[1;33m)\u001b[0m\u001b[1;33m\u001b[0m\u001b[0m\n\u001b[0m\u001b[0;32m    305\u001b[0m \u001b[1;33m\u001b[0m\u001b[0m\n\u001b[0;32m    306\u001b[0m     ax_d.get_yaxis().set_view_interval(\n",
      "\u001b[1;31mEMAError\u001b[0m: unknown density plot type"
     ]
    },
    {
     "data": {
      "image/png": "[encoded data removed]",
      "text/plain": [
       "<Figure size 432x288 with 2 Axes>"
      ]
     },
     "metadata": {},
     "output_type": "display_data"
    }
   ],
   "source": [
    "from ema_workbench import SequentialEvaluator\n",
    "\n",
    "with SequentialEvaluator(model) as evaluator:\n",
    "    experiments, outcomes = evaluator.perform_experiments(scenarios=100)\n",
    "    \n",
    "from ema_workbench.analysis import plotting, plotting_util\n",
    "\n",
    "from ema_workbench.analysis.plotting import lines\n",
    "\n",
    "figure = lines((experiments, outcomes), density=True) #show lines, and end state density\n",
    "plt.show() #show figure"
   ]
  },
  {
   "cell_type": "code",
   "execution_count": null,
   "metadata": {},
   "outputs": [],
   "source": []
  }
 ],
 "metadata": {
  "kernelspec": {
   "display_name": "Python 3",
   "language": "python",
   "name": "python3"
  },
  "language_info": {
   "codemirror_mode": {
    "name": "ipython",
    "version": 3
   },
   "file_extension": ".py",
   "mimetype": "text/x-python",
   "name": "python",
   "nbconvert_exporter": "python",
   "pygments_lexer": "ipython3",
   "version": "3.6.4"
  }
 },
 "nbformat": 4,
 "nbformat_minor": 2
}
